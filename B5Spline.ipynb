{
  "nbformat": 4,
  "nbformat_minor": 0,
  "metadata": {
    "colab": {
      "provenance": []
    },
    "kernelspec": {
      "name": "python3",
      "display_name": "Python 3"
    },
    "language_info": {
      "name": "python"
    }
  },
  "cells": [
    {
      "cell_type": "code",
      "execution_count": null,
      "metadata": {
        "id": "LxB6wcSNvKyZ"
      },
      "outputs": [],
      "source": [
        "from math import factorial\n",
        "import numpy as np\n",
        "import matplotlib.pyplot as plt"
      ]
    },
    {
      "cell_type": "code",
      "source": [
        "def getTs (P_tran, P_start):\n",
        "    return (P_tran - P_start) / np.linalg.norm(P_tran - P_start)\n",
        "\n",
        "def getTe (P_tran, P_end):\n",
        "    return (P_end - P_tran) / np.linalg.norm(P_end - P_tran)\n",
        "\n",
        "def bezier_5(u, p0, p1, p2, p3, p4, p5):\n",
        "    t = 1 - u\n",
        "    return (t**5)*p0 + 5*u*(t**4)*p1 + 10*(u*u)*(t**3)*p2 + 10*(u**3)*(t*t)*p3 + 5*(u**4)*t*p4 + (u**5)*p5\n"
      ],
      "metadata": {
        "id": "0eYWiqHmvSEW"
      },
      "execution_count": null,
      "outputs": []
    },
    {
      "cell_type": "code",
      "source": [
        "def get_theta(P_start, P_trans, P_end):\n",
        "    len_start_trans = np.linalg.norm(P_start - P_trans)\n",
        "    len_trans_end = np.linalg.norm( P_trans - P_end)\n",
        "    len_start_end = np.linalg.norm(P_start - P_end)\n",
        "    print('a {} b {} c {}'.format(len_start_trans, len_trans_end, len_start_end))\n",
        "    theta = np.arccos( ((len_start_trans**2 + len_trans_end**2 - len_start_end**2) / (2 * len_start_trans * len_trans_end)) )\n",
        "    return theta\n"
      ],
      "metadata": {
        "id": "jCBxC3kivfmY"
      },
      "execution_count": null,
      "outputs": []
    },
    {
      "cell_type": "code",
      "source": [
        "def get_bezier_params(init_cornering_err, nu, theta, seg_len):\n",
        "    cornering_fit_step = 0.001\n",
        "    cornering_err = init_cornering_err\n",
        "    Lt = seg_len\n",
        "    d = 0\n",
        "    c = 0\n",
        "    \n",
        "    i = 0\n",
        "    while(Lt > seg_len/2.):\n",
        "        d = (32 * cornering_err) / ((7*nu + 16) * np.sqrt(2+2*np.cos(theta)))\n",
        "        c = (nu * 32 * cornering_err) / ((7*nu + 16) * np.sqrt(2+2*np.cos(theta)))\n",
        "        Lt = 2*c + d\n",
        "        if (Lt <= seg_len/2.):\n",
        "            break\n",
        "        i = i+1\n",
        "        cornering_err = cornering_err - cornering_fit_step\n",
        "    print('Result iteration={} e={}; segment length={}; Lt={};'.format(i, cornering_err, seg_len, Lt))\n",
        "    return (cornering_err, d, c, Lt)\n"
      ],
      "metadata": {
        "id": "BF7EpU-UvljK"
      },
      "execution_count": null,
      "outputs": []
    },
    {
      "cell_type": "code",
      "source": [
        "def get_bezier_params2(cornering_err, nu, theta, seg_len):                                                    \n",
        "                                                                                                              \n",
        "    Lt0 = (2*nu + 1) * (32 * cornering_error) / ((7*nu + 16) * np.sqrt(2+2*np.cos(theta)))                    \n",
        "    if (seg_len / 2 > Lt0):                                                                                   \n",
        "        Lt = Lt0                                                                                              \n",
        "    else:                                                                                                     \n",
        "        Lt = seg_len / 2                                                                                      \n",
        "        cornering_err = Lt * ((7*nu + 16) * np.sqrt(2+2*np.cos(theta))) / (32 * (2*nu + 1))                   \n",
        "                                                                                                              \n",
        "    d = (Lt / (2 * nu + 1))                                                                                   \n",
        "    c = d * nu                                                                                                \n",
        "                                                                                                              \n",
        "    print('Result e={}; segment length={}; Lt={};'.format(cornering_err, seg_len, Lt))                        \n",
        "    return (cornering_err, d, c, Lt) \n"
      ],
      "metadata": {
        "id": "fHxcmNndvpdB"
      },
      "execution_count": null,
      "outputs": []
    },
    {
      "cell_type": "code",
      "source": [
        "# Generate points\n",
        "N = 10\n",
        "points = np.array([[0.,0.]], dtype=float)\n",
        "for i in np.arange(1.0, N, 1.0):\n",
        "    points = np.append(points, np.array( [[i, np.random.random_sample()]]), axis=0)\n",
        "print(points)    \n",
        "\n",
        "# calculate tangent vectors along linear segment\n",
        "ts = np.empty((0,2), dtype=float)\n",
        "te = np.empty((0,2), dtype=float)\n",
        "for i in np.arange(1, points.shape[0]-1):\n",
        "    ts = np.append(ts, np.array( [getTs(points[i], points[i-1])] ), axis=0)\n",
        "\n",
        "for i in np.arange(1, points.shape[0]-1):\n",
        "    te = np.append(te, np.array( [getTe(points[i], points[i+1])] ), axis=0)\n",
        "\n",
        "print('TS-------')\n",
        "print(ts)\n",
        "print('TE--------')\n",
        "print(te)"
      ],
      "metadata": {
        "colab": {
          "base_uri": "https://localhost:8080/"
        },
        "id": "Fv1AvNBav5Mt",
        "outputId": "7a5c910b-465a-4769-ff9f-14fe7e602827"
      },
      "execution_count": null,
      "outputs": [
        {
          "output_type": "stream",
          "name": "stdout",
          "text": [
            "[[0.         0.        ]\n",
            " [1.         0.92764815]\n",
            " [2.         0.42754591]\n",
            " [3.         0.19057527]\n",
            " [4.         0.53993798]\n",
            " [5.         0.19781843]\n",
            " [6.         0.15905405]\n",
            " [7.         0.71750464]\n",
            " [8.         0.24549063]\n",
            " [9.         0.6118    ]]\n",
            "TS-------\n",
            "[[ 0.73313091  0.68008754]\n",
            " [ 0.89439061 -0.44728675]\n",
            " [ 0.97305223 -0.23058482]\n",
            " [ 0.94404579  0.3298144 ]\n",
            " [ 0.94615984 -0.32369978]\n",
            " [ 0.99924951 -0.03873529]\n",
            " [ 0.8730821   0.48757322]\n",
            " [ 0.90432134 -0.42685234]]\n",
            "TE--------\n",
            "[[ 0.89439061 -0.44728675]\n",
            " [ 0.97305223 -0.23058482]\n",
            " [ 0.94404579  0.3298144 ]\n",
            " [ 0.94615984 -0.32369978]\n",
            " [ 0.99924951 -0.03873529]\n",
            " [ 0.8730821   0.48757322]\n",
            " [ 0.90432134 -0.42685234]\n",
            " [ 0.93898471  0.34395889]]\n"
          ]
        }
      ]
    },
    {
      "cell_type": "code",
      "source": [
        "thetas = np.empty((0), dtype=float)\n",
        "nu = np.empty((0), dtype=float)\n",
        "seg_len = np.empty((0), dtype=float)\n",
        "\n",
        "for i in np.arange(0, points.shape[0]-2):\n",
        "    (p_start, p_trans, p_end) = points[i:i+3];\n",
        "    print('start [{}]; trans [{}]; end [{}]'.format( p_start, p_trans, p_end ))\n",
        "    ds = np.linalg.norm(p_start - p_trans)\n",
        "    de = np.linalg.norm(p_trans - p_end)\n",
        "    theta = get_theta(p_start, p_trans, p_end)\n",
        "    seg_len = np.append(seg_len, np.array( [min(ds, de)] ), axis=0)\n",
        "    print('ds {}; de {}; theta {}'.format(ds, de, theta))\n",
        "    thetas = np.append(thetas, np.array( [theta] ), axis=0)\n",
        "    nu = np.append(nu, np.array( [1/2.0769 * get_theta(p_start, p_trans, p_end) ** 0.9927 ] ), axis=0)\n",
        "    \n",
        "    \n",
        "print('Thetas: {}'.format(thetas) )\n",
        "print('Nu: {}'.format(nu))\n",
        "print('Segments length: {}'.format(seg_len) )\n"
      ],
      "metadata": {
        "colab": {
          "base_uri": "https://localhost:8080/"
        },
        "id": "5T6EOpS1vsJg",
        "outputId": "d32c0bda-80ab-4752-cc4d-fce01a2ec13f"
      },
      "execution_count": null,
      "outputs": [
        {
          "output_type": "stream",
          "name": "stdout",
          "text": [
            "start [[0. 0.]]; trans [[1.         0.92764815]]; end [[2.         0.42754591]]\n",
            "a 1.3640128656969701 b 1.1180797153657798 c 2.045188379860727\n",
            "ds 1.3640128656969701; de 1.1180797153657798; theta 1.9299812229022475\n",
            "a 1.3640128656969701 b 1.1180797153657798 c 2.045188379860727\n",
            "start [[1.         0.92764815]]; trans [[2.         0.42754591]]; end [[3.         0.19057527]]\n",
            "a 1.1180797153657798 b 1.0276940632497615 c 2.131496291402435\n",
            "ds 1.1180797153657798; de 1.0276940632497615; theta 2.910541909134385\n",
            "a 1.1180797153657798 b 1.0276940632497615 c 2.131496291402435\n",
            "start [[2.         0.42754591]]; trans [[3.         0.19057527]]; end [[4.         0.53993798]]\n",
            "a 1.0276940632497615 b 1.0592706478295186 c 2.003155504820033\n",
            "ds 1.0276940632497615; de 1.0592706478295186; theta 2.572807033035479\n",
            "a 1.0276940632497615 b 1.0592706478295186 c 2.003155504820033\n",
            "start [[3.         0.19057527]]; trans [[4.         0.53993798]]; end [[5.         0.19781843]]\n",
            "a 1.0592706478295186 b 1.0569038682026715 c 2.000013115809483\n",
            "ds 1.0592706478295186; de 1.0569038682026715; theta 2.475848488312612\n",
            "a 1.0592706478295186 b 1.0569038682026715 c 2.000013115809483\n",
            "start [[4.         0.53993798]]; trans [[5.         0.19781843]]; end [[6.         0.15905405]]\n",
            "a 1.0569038682026715 b 1.00075105664995 c 2.0359451295476005\n",
            "ds 1.0569038682026715; de 1.00075105664995; theta 2.850700439755624\n",
            "a 1.0569038682026715 b 1.00075105664995 c 2.0359451295476005\n",
            "start [[5.         0.19781843]]; trans [[6.         0.15905405]]; end [[7.         0.71750464]]\n",
            "a 1.00075105664995 b 1.1453676538796054 c 2.0664156781244527\n",
            "ds 1.00075105664995; de 1.1453676538796054; theta 2.593539640658548\n",
            "a 1.00075105664995 b 1.1453676538796054 c 2.0664156781244527\n",
            "start [[6.         0.15905405]]; trans [[7.         0.71750464]]; end [[8.         0.24549063]]\n",
            "a 1.1453676538796054 b 1.1058016191047355 c 2.0018669494780537\n",
            "ds 1.1453676538796054; de 1.1058016191047355; theta 2.191275409738482\n",
            "a 1.1453676538796054 b 1.1058016191047355 c 2.0018669494780537\n",
            "start [[7.         0.71750464]]; trans [[8.         0.24549063]]; end [[9.     0.6118]]\n",
            "a 1.1058016191047355 b 1.0649800694799596 c 2.002791419897589\n",
            "ds 1.1058016191047355; de 1.0649800694799596; theta 2.3494536417758853\n",
            "a 1.1058016191047355 b 1.0649800694799596 c 2.002791419897589\n",
            "Thetas: [1.92998122 2.91054191 2.57280703 2.47584849 2.85070044 2.59353964\n",
            " 2.19127541 2.34945364]\n",
            "Nu: [0.92481094 1.39050086 1.23025646 1.18422518 1.36211837 1.24009765\n",
            " 1.04904542 1.12419911]\n",
            "Segments length: [1.11807972 1.02769406 1.02769406 1.05690387 1.00075106 1.00075106\n",
            " 1.10580162 1.06498007]\n"
          ]
        }
      ]
    },
    {
      "cell_type": "code",
      "source": [
        "cornering_error = 0.2\n",
        "es = np.empty((0), dtype=float)\n",
        "ds = np.empty((0), dtype=float)\n",
        "cs = np.empty((0), dtype=float)\n",
        "Lts = np.empty((0), dtype=float)\n",
        "for i in np.arange(0, seg_len.shape[0]):\n",
        "    (e, d, c, Lt) = get_bezier_params2(cornering_error, nu[i], thetas[i], seg_len[i])\n",
        "    es = np.append(es, np.array([e]), axis=0)\n",
        "    ds = np.append(ds, np.array([d]), axis=0)\n",
        "    cs = np.append(cs, np.array([c]), axis=0)\n",
        "    Lts = np.append(Lts, np.array([Lt]), axis=0)\n",
        "\n",
        "print('E: {}'.format(es))    \n",
        "#ds = (32 * cornering_error) / ((7*nu + 16) * np.sqrt(2+2*np.cos(thetas)))\n",
        "print('D: {}'.format(ds))\n",
        "#cs = (nu * 32 * cornering_error) / ((7*nu + 16) * np.sqrt(2+2*np.cos(thetas)))\n",
        "print('C: {}'.format(cs))\n",
        "#Lts = 2*cs + ds\n",
        "print('L: {}'.format(Lts))\n"
      ],
      "metadata": {
        "colab": {
          "base_uri": "https://localhost:8080/"
        },
        "id": "ve6qYU0lvwRX",
        "outputId": "177e134a-47bf-4066-8538-f5505f96470b"
      },
      "execution_count": null,
      "outputs": [
        {
          "output_type": "stream",
          "name": "stdout",
          "text": [
            "Result e=0.1569082939611061; segment length=1.1180797153657798; Lt=0.5590398576828899;\n",
            "Result e=0.02519514587296949; segment length=1.0276940632497615; Lt=0.5138470316248808;\n",
            "Result e=0.06408629999922624; segment length=1.0276940632497615; Lt=0.5138470316248808;\n",
            "Result e=0.0778220358590893; segment length=1.0569038682026715; Lt=0.5284519341013357;\n",
            "Result e=0.03107717597229086; segment length=1.00075105664995; Lt=0.500375528324975;\n",
            "Result e=0.06001686645649035; segment length=1.00075105664995; Lt=0.500375528324975;\n",
            "Result e=0.11911523763689913; segment length=1.1058016191047355; Lt=0.5529008095523678;\n",
            "Result e=0.09434531877510317; segment length=1.0649800694799596; Lt=0.5324900347399798;\n",
            "E: [0.15690829 0.02519515 0.0640863  0.07782204 0.03107718 0.06001687\n",
            " 0.11911524 0.09434532]\n",
            "D: [0.19618036 0.13590235 0.14848869 0.1568828  0.13435653 0.143778\n",
            " 0.17846501 0.16392388]\n",
            "C: [0.18142975 0.18897234 0.18267917 0.18578457 0.1830095  0.17829876\n",
            " 0.1872179  0.18428308]\n",
            "L: [0.55903986 0.51384703 0.51384703 0.52845193 0.50037553 0.50037553\n",
            " 0.55290081 0.53249003]\n"
          ]
        }
      ]
    },
    {
      "cell_type": "code",
      "source": [
        "P0 = np.empty((0,2), dtype=float)\n",
        "P2 = np.empty((0,2), dtype=float)\n",
        "P1 = np.empty((0,2), dtype=float)\n",
        "P3 = np.empty((0,2), dtype=float)\n",
        "P4 = np.empty((0,2), dtype=float)\n",
        "P5 = np.empty((0,2), dtype=float)\n",
        "for i in np.arange(0, Lts.shape[0]):\n",
        "    p0 = points[i+1] - Lts[i] * ts[i]\n",
        "    p5 = points[i+1] + Lts[i] * te[i]\n",
        "    \n",
        "    P0 = np.append(P0, [p0], axis=0 )\n",
        "    P1 = np.append(P1, [p0 + cs[i]*ts[i]], axis=0)\n",
        "    P2 = np.append(P2, [p0 + 2*cs[i]*ts[i]], axis=0)\n",
        "    P3 = np.append(P3, [p5 - 2*cs[i]*te[i]], axis=0 )\n",
        "    P4 = np.append(P4, [p5 - cs[i]*te[i]], axis=0)\n",
        "    P5 = np.append(P5, [p5], axis=0 )\n",
        "    \n",
        "print('P0 {}'.format(P0))\n",
        "print('P1 {}'.format(P1))\n",
        "print('P2 {}'.format(P2))\n",
        "print('P3 {}'.format(P3))\n",
        "print('P4 {}'.format(P4))\n",
        "print('P5 {}'.format(P5))  "
      ],
      "metadata": {
        "colab": {
          "base_uri": "https://localhost:8080/"
        },
        "id": "hytEOBLqwDYy",
        "outputId": "eac02cf2-4bf2-42fc-9f34-cf67f8626445"
      },
      "execution_count": null,
      "outputs": [
        {
          "output_type": "stream",
          "name": "stdout",
          "text": [
            "P0 [[0.5901506  0.54745211]\n",
            " [1.54042004 0.65738288]\n",
            " [2.5        0.30906059]\n",
            " [3.50111717 0.36564692]\n",
            " [4.52656477 0.35978988]\n",
            " [5.5        0.17843624]\n",
            " [6.5172722  0.44792501]\n",
            " [7.5184579  0.47278525]]\n",
            "P1 [[0.72316235 0.67084022]\n",
            " [1.70943513 0.57285806]\n",
            " [2.67775637 0.26693755]\n",
            " [3.67650631 0.42692135]\n",
            " [4.69972101 0.30054974]\n",
            " [5.67816495 0.17152978]\n",
            " [6.6807288  0.53920745]\n",
            " [7.68510902 0.39412359]]\n",
            "P2 [[0.85617411 0.79422833]\n",
            " [1.87845021 0.48833324]\n",
            " [2.85551275 0.2248145 ]\n",
            " [3.85189545 0.48819577]\n",
            " [4.87287725 0.24130961]\n",
            " [5.8563299  0.16462333]\n",
            " [6.84418539 0.63048988]\n",
            " [7.85176014 0.31546192]]\n",
            "P3 [[1.17546188 0.83989928]\n",
            " [2.13224009 0.3962089 ]\n",
            " [3.14018012 0.23954898]\n",
            " [4.14843621 0.48915505]\n",
            " [5.1342557  0.19261409]\n",
            " [6.12553    0.22915635]\n",
            " [7.16138972 0.64132643]\n",
            " [8.15392202 0.30187371]]\n",
            "P4 [[1.33773094 0.75874816]\n",
            " [2.31612004 0.35263474]\n",
            " [3.31263763 0.2997992 ]\n",
            " [4.3242181  0.42901663]\n",
            " [5.31712785 0.18552517]\n",
            " [6.28119946 0.31609005]\n",
            " [7.33069486 0.56141203]\n",
            " [8.32696101 0.36525951]]\n",
            "P5 [[1.5        0.67759703]\n",
            " [2.5        0.30906059]\n",
            " [3.48509513 0.36004942]\n",
            " [4.5        0.36887821]\n",
            " [5.5        0.17843624]\n",
            " [6.43686892 0.40302375]\n",
            " [7.5        0.48149764]\n",
            " [8.5        0.42864531]]\n"
          ]
        }
      ]
    },
    {
      "cell_type": "code",
      "source": [
        "B = np.empty((0,2), dtype=float)\n",
        "for i in np.arange(0, P0.shape[0]):\n",
        "    for u in np.arange(0, 1, 0.001):\n",
        "        B = np.append(B, [bezier_5(u, P0[i], P1[i], P2[i], P3[i], P4[i], P5[i])], axis=0)\n",
        "\n",
        "plt.plot(points[:, 0], points[:, 1], label='trajectory')\n",
        "plt.plot(P0[:, 0], P0[:, 1], \"rX\", P1[:,0], P1[:, 1], \"r^\", P2[:, 0], P2[:, 1], \"rs\", P3[:, 0], P3[:, 1], \"gs\", P4[:, 0], P4[:, 1], \"g^\", P5[:, 0], P5[:, 1], \"gX\")\n",
        "#plt.plot(P0[:, 0], P0[:, 1], \"rX\", P5[:, 0], P5[:, 1], \"gX\")\n",
        "plt.plot(B[:, 0], B[:, 1], 'r--')\n",
        "\n",
        "plt.grid()\n",
        "#fig = plt.gcf()\n",
        "#fig.set_size_inches(18.5, 10.5)\n",
        "\n",
        "plt.show()\n"
      ],
      "metadata": {
        "id": "Zmh6gTyawIIX",
        "outputId": "cfcfd72d-11fc-423b-d80c-4fa11eecf844",
        "colab": {
          "base_uri": "https://localhost:8080/",
          "height": 265
        }
      },
      "execution_count": null,
      "outputs": [
        {
          "output_type": "display_data",
          "data": {
            "text/plain": [
              "<Figure size 432x288 with 1 Axes>"
            ],
            "image/png": "[encoded data removed]"
          },
          "metadata": {
            "needs_background": "light"
          }
        }
      ]
    },
    {
      "cell_type": "code",
      "source": [],
      "metadata": {
        "id": "Uc62tPm3wMPU"
      },
      "execution_count": null,
      "outputs": []
    }
  ]
}