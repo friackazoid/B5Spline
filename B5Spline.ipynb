
from math import factorial
import numpy as np
import matplotlib.pyplot as plt

# Generate points
N = 10
points = np.array([[0.,0.]], dtype=float)
for i in np.arange(1.0, N, 1.0):
    points = np.append(points, np.array( [[i, np.random.random_sample()]]), axis=0)
print(points)    

# calculate tangent vectors along linear segment
ts = np.empty((0,2), dtype=float)
te = np.empty((0,2), dtype=float)
for i in np.arange(1, points.shape[0]-1):
    ts = np.append(ts, np.array( [getTs(points[i], points[i-1])] ), axis=0)

for i in np.arange(1, points.shape[0]-1):
    te = np.append(te, np.array( [getTe(points[i], points[i+1])] ), axis=0)

print('TS-------')
print(ts)
print('TE--------')
print(te)
