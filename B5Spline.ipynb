{
  "cells": [
    {
      "cell_type": "code",
      "execution_count": null,
      "metadata": {
        "id": "LxB6wcSNvKyZ"
      },
      "outputs": [],
      "source": [
        "from math import factorial\n",
        "import numpy as np\n",
        "import matplotlib.pyplot as plt"
      ]
    },
    {
      "cell_type": "code",
      "source": [
        "def getTangentVector (a, b):\n",
        "    return (b - a) / np.linalg.norm(b - a)"
      ],
      "metadata": {
        "id": "0e4DKQk9Wu4W"
      },
      "execution_count": null,
      "outputs": []
    },
    {
      "cell_type": "code",
      "execution_count": null,
      "metadata": {
        "id": "fm5g7XX3lvK9"
      },
      "outputs": [],
      "source": [
        "def getTs (P_tran, P_start):\n",
        "    return (P_tran - P_start) / np.linalg.norm(P_tran - P_start)"
      ]
    },
    {
      "cell_type": "code",
      "execution_count": null,
      "metadata": {
        "id": "0eYWiqHmvSEW"
      },
      "outputs": [],
      "source": [
        "def getTe (P_tran, P_end):\n",
        "    return (P_end - P_tran) / np.linalg.norm(P_end - P_tran)\n",
        "\n",
        "def bezier_5(u, p0, p1, p2, p3, p4, p5):\n",
        "    t = 1 - u\n",
        "    return (t**5)*p0 + 5*u*(t**4)*p1 + 10*(u*u)*(t**3)*p2 + 10*(u**3)*(t*t)*p3 + 5*(u**4)*t*p4 + (u**5)*p5\n"
      ]
    },
    {
      "cell_type": "code",
      "execution_count": null,
      "metadata": {
        "id": "jCBxC3kivfmY"
      },
      "outputs": [],
      "source": [
        "def get_theta(P_start, P_trans, P_end):\n",
        "    len_start_trans = np.linalg.norm(P_start - P_trans)\n",
        "    len_trans_end = np.linalg.norm( P_trans - P_end)\n",
        "    len_start_end = np.linalg.norm(P_start - P_end)\n",
        "    print('a {} b {} c {}'.format(len_start_trans, len_trans_end, len_start_end))\n",
        "    theta = np.arccos( ((len_start_trans**2 + len_trans_end**2 - len_start_end**2) / (2 * len_start_trans * len_trans_end)) )\n",
        "    return theta\n"
      ]
    },
    {
      "cell_type": "code",
      "execution_count": null,
      "metadata": {
        "id": "BF7EpU-UvljK"
      },
      "outputs": [],
      "source": [
        "def get_bezier_params(init_cornering_err, nu, theta, seg_len):\n",
        "    cornering_fit_step = 0.001\n",
        "    cornering_err = init_cornering_err\n",
        "    Lt = seg_len\n",
        "    d = 0\n",
        "    c = 0\n",
        "    \n",
        "    i = 0\n",
        "    while(Lt > seg_len/2.):\n",
        "        d = (32 * cornering_err) / ((7*nu + 16) * np.sqrt(2+2*np.cos(theta)))\n",
        "        c = (nu * 32 * cornering_err) / ((7*nu + 16) * np.sqrt(2+2*np.cos(theta)))\n",
        "        Lt = 2*c + d\n",
        "        if (Lt <= seg_len/2.):\n",
        "            break\n",
        "        i = i+1\n",
        "        cornering_err = cornering_err - cornering_fit_step\n",
        "    print('Result iteration={} e={}; segment length={}; Lt={};'.format(i, cornering_err, seg_len, Lt))\n",
        "    return (cornering_err, d, c, Lt)\n"
      ]
    },
    {
      "cell_type": "code",
      "execution_count": null,
      "metadata": {
        "id": "fHxcmNndvpdB"
      },
      "outputs": [],
      "source": [
        "def get_bezier_params2(cornering_err, nu, theta, seg_len):                                                    \n",
        "                                                                                                              \n",
        "    Lt0 = (2*nu + 1) * (32 * cornering_error) / ((7*nu + 16) * np.sqrt(2+2*np.cos(theta)))                    \n",
        "    if (seg_len / 2 > Lt0):                                                                                   \n",
        "        Lt = Lt0                                                                                              \n",
        "    else:                                                                                                     \n",
        "        Lt = seg_len / 2                                                                                      \n",
        "        cornering_err = Lt * ((7*nu + 16) * np.sqrt(2+2*np.cos(theta))) / (32 * (2*nu + 1))                   \n",
        "                                                                                                              \n",
        "    d = (Lt / (2 * nu + 1))                                                                                   \n",
        "    c = d * nu                                                                                                \n",
        "                                                                                                              \n",
        "    print('Result e={}; segment length={}; Lt={};'.format(cornering_err, seg_len, Lt))                        \n",
        "    return (cornering_err, d, c, Lt) \n"
      ]
    },
    {
      "cell_type": "markdown",
      "metadata": {
        "id": "ke6MsZTblvLB"
      },
      "source": [
        "# Generate points"
      ]
    },
    {
      "cell_type": "code",
      "execution_count": null,
      "metadata": {
        "id": "kOmmQltblvLD",
        "outputId": "b34e54e7-0302-4f4e-839f-c97c6bf3fc42",
        "colab": {
          "base_uri": "https://localhost:8080/",
          "height": 283
        }
      },
      "outputs": [
        {
          "output_type": "execute_result",
          "data": {
            "text/plain": [
              "[<matplotlib.lines.Line2D at 0x7f86c9419880>]"
            ]
          },
          "metadata": {},
          "execution_count": 13
        },
        {
          "output_type": "display_data",
          "data": {
            "text/plain": [
              "<Figure size 432x288 with 1 Axes>"
            ],
            "image/png": "[encoded data removed]"
          },
          "metadata": {
            "needs_background": "light"
          }
        }
      ],
      "source": [
        "\n",
        "N = 10\n",
        "points = np.array([[0.,0.]], dtype=float)\n",
        "for i in np.arange(1.0, N, 1.0):\n",
        "    points = np.append(points, np.array( [[i, np.random.random_sample()]]), axis=0)\n",
        "\n",
        "plt.plot(points[:, 0], points[:, 1], label='trajectory')"
      ]
    },
    {
      "cell_type": "code",
      "source": [
        "ts = np.array([ getTangentVector(points[i], points[i+1]) for i in np.arange(0, points.shape[0]-2) ], dtype=float)\n",
        "te = np.array([ getTangentVector(points[i], points[i+1]) for i in np.arange(1, points.shape[0]-1) ], dtype=float)"
      ],
      "metadata": {
        "id": "Jvl50SKha4qe"
      },
      "execution_count": 147,
      "outputs": []
    },
    {
      "cell_type": "code",
      "source": [
        "\n",
        "\n",
        "# calculate tangent vectors along linear segment\n",
        "#ts = np.empty((0,2), dtype=float)\n",
        "#te = np.empty((0,2), dtype=float)\n",
        "#for i in np.arange(0, points.shape[0]-2):\n",
        "#    ts = np.append(ts, np.array( [getTangentVector(points[i], points[i+1])] ), axis=0)\n",
        "\n",
        "#for i in np.arange(1, points.shape[0]-1):\n",
        "#    te = np.append(te, np.array( [getTangentVector(points[i], points[i+1])] ), axis=0)\n",
        "\n"
      ],
      "metadata": {
        "id": "o3ktRPfeXEpp"
      },
      "execution_count": 148,
      "outputs": []
    },
    {
      "cell_type": "code",
      "source": [
        "plt.plot(points[:, 0], points[:, 1], label='trajectory')\n",
        "plt.quiver(points[1:-1,0], points[1:-1, 1], ts[:, 0], ts[:, 1], color=['r'])\n",
        "plt.quiver(points[1:-1,0], points[1:-1, 1], te[:, 0], te[:, 1], color=['g'])\n",
        "plt.show()"
      ],
      "metadata": {
        "colab": {
          "base_uri": "https://localhost:8080/",
          "height": 265
        },
        "id": "WlCYQxKvYUxe",
        "outputId": "02e848db-4092-4c0b-97cc-0c0314706b21"
      },
      "execution_count": 149,
      "outputs": [
        {
          "output_type": "display_data",
          "data": {
            "text/plain": [
              "<Figure size 432x288 with 1 Axes>"
            ],
            "image/png": "[encoded data removed]"
          },
          "metadata": {
            "needs_background": "light"
          }
        }
      ]
    },
    {
      "cell_type": "code",
      "execution_count": null,
      "metadata": {
        "colab": {
          "base_uri": "https://localhost:8080/"
        },
        "id": "5T6EOpS1vsJg",
        "outputId": "80d54dd5-10de-422a-d958-557e8ba30cd7"
      },
      "outputs": [
        {
          "output_type": "stream",
          "name": "stdout",
          "text": [
            "start [[0. 0.]]; trans [[1.         0.48727546]]; end [[2.         0.64375942]]\n",
            "a 1.1124016225839293 b 1.0121695657828458 c 2.10105358956488\n",
            "ds 1.1124016225839293; de 1.0121695657828458; theta 2.843401518876363\n",
            "a 1.1124016225839293 b 1.0121695657828458 c 2.10105358956488\n",
            "start [[1.         0.48727546]]; trans [[2.         0.64375942]]; end [[3.        0.4697435]]\n",
            "a 1.0121695657828458 b 1.0150278521093596 c 2.0000768409283882\n",
            "ds 1.0121695657828458; de 1.0150278521093596; theta 2.814076865623156\n",
            "a 1.0121695657828458 b 1.0150278521093596 c 2.0000768409283882\n",
            "start [[2.         0.64375942]]; trans [[3.        0.4697435]]; end [[4.         0.50293998]]\n",
            "a 1.0150278521093596 b 1.0005508515989934 c 2.004951399238744\n",
            "ds 1.0150278521093596; de 1.0005508515989934; theta 2.9361176850098576\n",
            "a 1.0150278521093596 b 1.0005508515989934 c 2.004951399238744\n",
            "start [[3.        0.4697435]]; trans [[4.         0.50293998]]; end [[5.        0.9426957]]\n",
            "a 1.0005508515989934 b 1.0924216641246962 c 2.055160282650888\n",
            "ds 1.0005508515989934; de 1.0924216641246962; theta 2.760474755680957\n",
            "a 1.0005508515989934 b 1.0924216641246962 c 2.055160282650888\n",
            "start [[4.         0.50293998]]; trans [[5.        0.9426957]]; end [[6.         0.47106915]]\n",
            "a 1.0924216641246962 b 1.1056362906112067 c 2.000253921425954\n",
            "ds 1.0924216641246962; de 1.1056362906112067; theta 2.2865981450154766\n",
            "a 1.0924216641246962 b 1.1056362906112067 c 2.000253921425954\n",
            "start [[5.        0.9426957]]; trans [[6.         0.47106915]]; end [[7.         0.10246507]]\n",
            "a 1.1056362906112067 b 1.065771533717221 c 2.1693288147497416\n",
            "ds 1.1056362906112067; de 1.065771533717221; theta 3.054051866823873\n",
            "a 1.1056362906112067 b 1.065771533717221 c 2.1693288147497416\n",
            "start [[6.         0.47106915]]; trans [[7.         0.10246507]]; end [[8.         0.81539712]]\n",
            "a 1.065771533717221 b 1.2281173027149452 c 2.0294239963329264\n",
            "ds 1.065771533717221; de 1.2281173027149452; theta 2.1690885614728765\n",
            "a 1.065771533717221 b 1.2281173027149452 c 2.0294239963329264\n",
            "start [[7.         0.10246507]]; trans [[8.         0.81539712]]; end [[9.         0.71211549]]\n",
            "a 1.2281173027149452 b 1.0053194001882269 c 2.090854760153628\n",
            "ds 1.2281173027149452; de 1.0053194001882269; theta 2.4193233557176717\n",
            "a 1.2281173027149452 b 1.0053194001882269 c 2.090854760153628\n",
            "Thetas: [2.84340152 2.81407687 2.93611769 2.76047476 2.28659815 3.05405187\n",
            " 2.16908856 2.41932336]\n",
            "Nu: [1.35865623 1.34474586 1.40263001 1.31931655 1.09433975 1.45854967\n",
            " 1.03850089 1.15738371]\n",
            "Segments length: [1.01216957 1.01216957 1.00055085 1.00055085 1.09242166 1.06577153\n",
            " 1.06577153 1.0053194 ]\n"
          ]
        }
      ],
      "source": [
        "thetas = np.empty((0), dtype=float)\n",
        "nu = np.empty((0), dtype=float)\n",
        "seg_len = np.empty((0), dtype=float)\n",
        "\n",
        "for i in np.arange(0, points.shape[0]-2):\n",
        "    (p_start, p_trans, p_end) = points[i:i+3];\n",
        "    print('start [{}]; trans [{}]; end [{}]'.format( p_start, p_trans, p_end ))\n",
        "    ds = np.linalg.norm(p_start - p_trans)\n",
        "    de = np.linalg.norm(p_trans - p_end)\n",
        "    theta = get_theta(p_start, p_trans, p_end)\n",
        "    seg_len = np.append(seg_len, np.array( [min(ds, de)] ), axis=0)\n",
        "    print('ds {}; de {}; theta {}'.format(ds, de, theta))\n",
        "    thetas = np.append(thetas, np.array( [theta] ), axis=0)\n",
        "    nu = np.append(nu, np.array( [1/2.0769 * get_theta(p_start, p_trans, p_end) ** 0.9927 ] ), axis=0)\n",
        "    \n",
        "    \n",
        "print('Thetas: {}'.format(thetas) )\n",
        "print('Nu: {}'.format(nu))\n",
        "print('Segments length: {}'.format(seg_len) )\n"
      ]
    },
    {
      "cell_type": "code",
      "execution_count": null,
      "metadata": {
        "colab": {
          "base_uri": "https://localhost:8080/"
        },
        "id": "ve6qYU0lvwRX",
        "outputId": "7bad2f64-576a-4f11-c45f-a340cc852dba"
      },
      "outputs": [
        {
          "output_type": "stream",
          "name": "stdout",
          "text": [
            "Result e=0.03224402928063833; segment length=1.0121695657828458; Lt=0.5060847828914229;\n",
            "Result e=0.03551860677494223; segment length=1.0121695657828458; Lt=0.5060847828914229;\n",
            "Result e=0.021756999724077658; segment length=1.0005508515989934; Lt=0.5002754257994967;\n",
            "Result e=0.04107293171056043; segment length=1.0005508515989934; Lt=0.5002754257994967;\n",
            "Result e=0.10502066625423769; segment length=1.0924216641246962; Lt=0.5462108320623481;\n",
            "Result e=0.009751149534825183; segment length=1.065771533717221; Lt=0.5328857668586106;\n",
            "Result e=0.11770201049209003; segment length=1.065771533717221; Lt=0.5328857668586106;\n",
            "Result e=0.0807116521809373; segment length=1.0053194001882269; Lt=0.5026597000941134;\n",
            "E: [0.03224403 0.03551861 0.021757   0.04107293 0.10502067 0.00975115\n",
            " 0.11770201 0.08071165]\n",
            "D: [0.13614265 0.13716924 0.13146945 0.13748993 0.17129687 0.13604091\n",
            " 0.17318344 0.15164252]\n",
            "C: [0.18497106 0.18445777 0.18440299 0.18139275 0.18745698 0.19842243\n",
            " 0.17985116 0.17550859]\n",
            "L: [0.50608478 0.50608478 0.50027543 0.50027543 0.54621083 0.53288577\n",
            " 0.53288577 0.5026597 ]\n"
          ]
        }
      ],
      "source": [
        "cornering_error = 0.2\n",
        "es = np.empty((0), dtype=float)\n",
        "ds = np.empty((0), dtype=float)\n",
        "cs = np.empty((0), dtype=float)\n",
        "Lts = np.empty((0), dtype=float)\n",
        "for i in np.arange(0, seg_len.shape[0]):\n",
        "    (e, d, c, Lt) = get_bezier_params2(cornering_error, nu[i], thetas[i], seg_len[i])\n",
        "    es = np.append(es, np.array([e]), axis=0)\n",
        "    ds = np.append(ds, np.array([d]), axis=0)\n",
        "    cs = np.append(cs, np.array([c]), axis=0)\n",
        "    Lts = np.append(Lts, np.array([Lt]), axis=0)\n",
        "\n",
        "print('E: {}'.format(es))    \n",
        "#ds = (32 * cornering_error) / ((7*nu + 16) * np.sqrt(2+2*np.cos(thetas)))\n",
        "print('D: {}'.format(ds))\n",
        "#cs = (nu * 32 * cornering_error) / ((7*nu + 16) * np.sqrt(2+2*np.cos(thetas)))\n",
        "print('C: {}'.format(cs))\n",
        "#Lts = 2*cs + ds\n",
        "print('L: {}'.format(Lts))\n"
      ]
    },
    {
      "cell_type": "code",
      "execution_count": null,
      "metadata": {
        "colab": {
          "base_uri": "https://localhost:8080/"
        },
        "id": "hytEOBLqwDYy",
        "outputId": "f96866de-0af7-4164-884e-899ad5f61398"
      },
      "outputs": [
        {
          "output_type": "stream",
          "name": "stdout",
          "text": [
            "P0 [[0.5450521  0.26559051]\n",
            " [1.5        0.56551744]\n",
            " [2.50713133 0.55551049]\n",
            " [3.5        0.48634174]\n",
            " [4.5        0.72281784]\n",
            " [5.51802797 0.69837995]\n",
            " [6.5        0.28676711]\n",
            " [7.59070709 0.52359909]]\n",
            "P1 [[0.71133293 0.34661508]\n",
            " [1.68223999 0.59403507]\n",
            " [2.68880417 0.52389652]\n",
            " [3.68129288 0.49236003]\n",
            " [4.67159764 0.79827888]\n",
            " [5.69749244 0.61373974]\n",
            " [6.66875208 0.22456441]\n",
            " [7.73361575 0.62548325]]\n",
            "P2 [[0.87761376 0.42763964]\n",
            " [1.86447998 0.62255271]\n",
            " [2.87047701 0.49228256]\n",
            " [3.86258576 0.49837831]\n",
            " [4.84319528 0.87373993]\n",
            " [5.8769569  0.52909954]\n",
            " [6.83750416 0.1623617 ]\n",
            " [7.8765244  0.72736741]]\n",
            "P3 [[1.13450578 0.50832345]\n",
            " [2.1351384  0.62024318]\n",
            " [3.13139707 0.47410542]\n",
            " [4.12585793 0.55828673]\n",
            " [5.15493058 0.86962632]\n",
            " [6.12764547 0.4240185 ]\n",
            " [7.14101539 0.20299947]\n",
            " [8.15084015 0.79981811]]\n",
            "P4 [[1.31725289 0.53692044]\n",
            " [2.31686521 0.58861983]\n",
            " [3.31569853 0.48022358]\n",
            " [4.29190439 0.63130661]\n",
            " [5.32447728 0.7896636 ]\n",
            " [6.31382274 0.35539281]\n",
            " [7.28746    0.30740452]\n",
            " [8.32542007 0.78178721]]\n",
            "P5 [[1.5        0.56551744]\n",
            " [2.49859202 0.55699647]\n",
            " [3.5        0.48634174]\n",
            " [4.45795085 0.70432648]\n",
            " [5.49402397 0.70970088]\n",
            " [6.5        0.28676711]\n",
            " [7.43390462 0.41180958]\n",
            " [8.5        0.76375631]]\n"
          ]
        }
      ],
      "source": [
        "P0 = np.empty((0,2), dtype=float)\n",
        "P2 = np.empty((0,2), dtype=float)\n",
        "P1 = np.empty((0,2), dtype=float)\n",
        "P3 = np.empty((0,2), dtype=float)\n",
        "P4 = np.empty((0,2), dtype=float)\n",
        "P5 = np.empty((0,2), dtype=float)\n",
        "for i in np.arange(0, Lts.shape[0]):\n",
        "    p0 = points[i+1] - Lts[i] * ts[i]\n",
        "    p5 = points[i+1] + Lts[i] * te[i]\n",
        "    \n",
        "    P0 = np.append(P0, [p0], axis=0 )\n",
        "    P1 = np.append(P1, [p0 + cs[i]*ts[i]], axis=0)\n",
        "    P2 = np.append(P2, [p0 + 2*cs[i]*ts[i]], axis=0)\n",
        "    P3 = np.append(P3, [p5 - 2*cs[i]*te[i]], axis=0 )\n",
        "    P4 = np.append(P4, [p5 - cs[i]*te[i]], axis=0)\n",
        "    P5 = np.append(P5, [p5], axis=0 )\n",
        "    \n",
        "print('P0 {}'.format(P0))\n",
        "print('P1 {}'.format(P1))\n",
        "print('P2 {}'.format(P2))\n",
        "print('P3 {}'.format(P3))\n",
        "print('P4 {}'.format(P4))\n",
        "print('P5 {}'.format(P5))  "
      ]
    },
    {
      "cell_type": "code",
      "execution_count": null,
      "metadata": {
        "colab": {
          "base_uri": "https://localhost:8080/",
          "height": 265
        },
        "id": "Zmh6gTyawIIX",
        "outputId": "c329ca60-8c0a-4773-d53c-9c3752c4b654"
      },
      "outputs": [
        {
          "output_type": "display_data",
          "data": {
            "text/plain": [
              "<Figure size 432x288 with 1 Axes>"
            ],
            "image/png": "[encoded data removed]"
          },
          "metadata": {
            "needs_background": "light"
          }
        }
      ],
      "source": [
        "B = np.empty((0,2), dtype=float)\n",
        "for i in np.arange(0, P0.shape[0]):\n",
        "    for u in np.arange(0, 1, 0.001):\n",
        "        B = np.append(B, [bezier_5(u, P0[i], P1[i], P2[i], P3[i], P4[i], P5[i])], axis=0)\n",
        "\n",
        "plt.plot(points[:, 0], points[:, 1], label='trajectory')\n",
        "plt.plot(P0[:, 0], P0[:, 1], \"rX\", P1[:,0], P1[:, 1], \"r^\", P2[:, 0], P2[:, 1], \"rs\", P3[:, 0], P3[:, 1], \"gs\", P4[:, 0], P4[:, 1], \"g^\", P5[:, 0], P5[:, 1], \"gX\")\n",
        "#plt.plot(P0[:, 0], P0[:, 1], \"rX\", P5[:, 0], P5[:, 1], \"gX\")\n",
        "plt.plot(B[:, 0], B[:, 1], 'r--')\n",
        "\n",
        "plt.grid()\n",
        "#fig = plt.gcf()\n",
        "#fig.set_size_inches(18.5, 10.5)\n",
        "\n",
        "plt.show()\n"
      ]
    },
    {
      "cell_type": "code",
      "execution_count": null,
      "metadata": {
        "id": "Uc62tPm3wMPU"
      },
      "outputs": [],
      "source": []
    }
  ],
  "metadata": {
    "colab": {
      "provenance": []
    },
    "kernelspec": {
      "display_name": "Python 3",
      "name": "python3"
    },
    "language_info": {
      "name": "python"
    }
  },
  "nbformat": 4,
  "nbformat_minor": 0
}